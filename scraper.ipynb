{
 "cells": [
  {
   "cell_type": "code",
   "execution_count": 137,
   "id": "initial_id",
   "metadata": {
    "collapsed": true,
    "ExecuteTime": {
     "end_time": "2024-03-11T15:05:20.038768Z",
     "start_time": "2024-03-11T15:05:18.996878Z"
    }
   },
   "outputs": [],
   "source": [
    "import requests\n",
    "from bs4 import BeautifulSoup\n",
    "import json\n",
    "\n",
    "base_url = 'https://github.com'\n",
    "repo_url = 'https://github.com/myselfshravan/AI-Meal-Planner'\n",
    "\n",
    "response = requests.get(repo_url)\n",
    "html = response.content\n",
    "\n",
    "soup = BeautifulSoup(html, 'html.parser')"
   ]
  },
  {
   "cell_type": "code",
   "outputs": [
    {
     "data": {
      "text/plain": "['https://github.com/myselfshravan/AI-Meal-Planner/tree/main/.idea',\n 'https://github.com/myselfshravan/AI-Meal-Planner/blob/main/kba.py',\n 'https://github.com/myselfshravan/AI-Meal-Planner/blob/main/chat.py',\n 'https://github.com/myselfshravan/AI-Meal-Planner/tree/main/.streamlit',\n 'https://github.com/myselfshravan/AI-Meal-Planner/tree/main/__pycache__',\n 'https://github.com/myselfshravan/AI-Meal-Planner/blob/main/README.md',\n 'https://github.com/myselfshravan/AI-Meal-Planner/blob/main/prompts.py',\n 'https://github.com/myselfshravan/AI-Meal-Planner/blob/main/streamlit_meal_planner.py',\n 'https://github.com/myselfshravan/AI-Meal-Planner/blob/main/requirements.txt',\n 'https://github.com/myselfshravan/AI-Meal-Planner/blob/main/main.py',\n 'https://github.com/myselfshravan/AI-Meal-Planner/blob/main/.gitignore',\n 'https://github.com/myselfshravan/AI-Meal-Planner/blob/main/data.py']"
     },
     "execution_count": 143,
     "metadata": {},
     "output_type": "execute_result"
    }
   ],
   "source": [
    "a_tags = soup.find_all('a')\n",
    "links = [a.get('href') for a in a_tags]\n",
    "\n",
    "blob_links = [link for link in links if '/blob/' in link]\n",
    "tree_links = [link for link in links if '/tree/' in link]\n",
    "blob_links\n",
    "# filtered_links = list(set(blob_links + tree_links))\n",
    "# filtered_links = [base_url + link for link in filtered_links]\n",
    "# filtered_links"
   ],
   "metadata": {
    "collapsed": false,
    "ExecuteTime": {
     "end_time": "2024-03-11T15:06:39.707885Z",
     "start_time": "2024-03-11T15:06:39.697204Z"
    }
   },
   "id": "32cb400e8c218ea1",
   "execution_count": 143
  },
  {
   "cell_type": "code",
   "outputs": [],
   "source": [
    "# scrape the tree links\n",
    "def foo(link):\n",
    "    response = requests.get(base_url + link)\n",
    "    html = response.content\n",
    "    json_string = html.decode('utf-8')\n",
    "    data = json.loads(json_string)\n",
    "    tree_items = data['payload']['tree']['items']\n",
    "    filenames = [item['name'] for item in tree_items]\n",
    "    return filenames"
   ],
   "metadata": {
    "collapsed": false,
    "ExecuteTime": {
     "end_time": "2024-03-11T15:06:56.722877Z",
     "start_time": "2024-03-11T15:06:56.717449Z"
    }
   },
   "id": "86ede18665c759c1",
   "execution_count": 144
  },
  {
   "cell_type": "code",
   "outputs": [
    {
     "name": "stdout",
     "output_type": "stream",
     "text": [
      "['/myselfshravan/AI-Meal-Planner/tree/main/.idea', '/myselfshravan/AI-Meal-Planner/tree/main/.idea', '/myselfshravan/AI-Meal-Planner/tree/main/.streamlit', '/myselfshravan/AI-Meal-Planner/tree/main/.streamlit', '/myselfshravan/AI-Meal-Planner/tree/main/__pycache__', '/myselfshravan/AI-Meal-Planner/tree/main/__pycache__']\n",
      "Files inside https://github.com/myselfshravan/AI-Meal-Planner/tree/main/.idea: \n",
      "['data.cpython-310.pyc', 'prompts.cpython-310.pyc']\n"
     ]
    }
   ],
   "source": [
    "print(tree_links)\n",
    "filenames = foo(f\"{tree_links[5]}\")\n",
    "print(f\"Files inside {base_url}{tree_links[0]}: \\n{filenames}\")"
   ],
   "metadata": {
    "collapsed": false,
    "ExecuteTime": {
     "end_time": "2024-03-11T15:10:19.712456Z",
     "start_time": "2024-03-11T15:10:19.107755Z"
    }
   },
   "id": "fdab0033acff15af",
   "execution_count": 157
  },
  {
   "cell_type": "code",
   "outputs": [
    {
     "name": "stdout",
     "output_type": "stream",
     "text": [
      "https://github.com/myselfshravan/rag-langchain/tree/main/txt_files/webcontent.txt\n",
      "https://github.com/myselfshravan/rag-langchain/tree/main/txt_files/webcontent2.txt\n"
     ]
    }
   ],
   "source": [
    "for filename in filenames:\n",
    "    print(f\"{base_url}{tree_links[13]}/{filename}\")"
   ],
   "metadata": {
    "collapsed": false,
    "ExecuteTime": {
     "end_time": "2024-03-11T14:49:56.368401Z",
     "start_time": "2024-03-11T14:49:56.361761Z"
    }
   },
   "id": "68472552a64204fd",
   "execution_count": 99
  },
  {
   "cell_type": "code",
   "outputs": [],
   "source": [
    "code_links = []\n",
    "for link in tree_links:\n",
    "    filenames = foo(link)\n",
    "    for filename in filenames:\n",
    "        code_links.append(f\"{base_url}{link}/{filename}\")"
   ],
   "metadata": {
    "collapsed": false,
    "ExecuteTime": {
     "end_time": "2024-03-11T14:49:59.111714Z",
     "start_time": "2024-03-11T14:49:56.369554Z"
    }
   },
   "id": "a37b211274890769",
   "execution_count": 100
  },
  {
   "cell_type": "code",
   "outputs": [
    {
     "data": {
      "text/plain": "['https://github.com/myselfshravan/rag-langchain/tree/main/.chainlit/translations',\n 'https://github.com/myselfshravan/rag-langchain/tree/main/.chainlit/config.toml',\n 'https://github.com/myselfshravan/rag-langchain/tree/main/.chainlit/translations',\n 'https://github.com/myselfshravan/rag-langchain/tree/main/.chainlit/config.toml',\n 'https://github.com/myselfshravan/rag-langchain/tree/main/.idea/inspectionProfiles',\n 'https://github.com/myselfshravan/rag-langchain/tree/main/.idea/.gitignore',\n 'https://github.com/myselfshravan/rag-langchain/tree/main/.idea/misc.xml',\n 'https://github.com/myselfshravan/rag-langchain/tree/main/.idea/modules.xml',\n 'https://github.com/myselfshravan/rag-langchain/tree/main/.idea/rag-langchain.iml',\n 'https://github.com/myselfshravan/rag-langchain/tree/main/.idea/vcs.xml',\n 'https://github.com/myselfshravan/rag-langchain/tree/main/.idea/inspectionProfiles',\n 'https://github.com/myselfshravan/rag-langchain/tree/main/.idea/.gitignore',\n 'https://github.com/myselfshravan/rag-langchain/tree/main/.idea/misc.xml',\n 'https://github.com/myselfshravan/rag-langchain/tree/main/.idea/modules.xml',\n 'https://github.com/myselfshravan/rag-langchain/tree/main/.idea/rag-langchain.iml',\n 'https://github.com/myselfshravan/rag-langchain/tree/main/.idea/vcs.xml',\n 'https://github.com/myselfshravan/rag-langchain/tree/main/chroma/34a13ace-f646-418b-affc-1d77ece0ac9b',\n 'https://github.com/myselfshravan/rag-langchain/tree/main/chroma/chroma.sqlite3',\n 'https://github.com/myselfshravan/rag-langchain/tree/main/chroma/34a13ace-f646-418b-affc-1d77ece0ac9b',\n 'https://github.com/myselfshravan/rag-langchain/tree/main/chroma/chroma.sqlite3',\n 'https://github.com/myselfshravan/rag-langchain/tree/main/csv_files/sample_dataset.csv',\n 'https://github.com/myselfshravan/rag-langchain/tree/main/csv_files/sample_dataset.csv',\n 'https://github.com/myselfshravan/rag-langchain/tree/main/json_files/sample_dataset.json',\n 'https://github.com/myselfshravan/rag-langchain/tree/main/json_files/sample_dataset.json',\n 'https://github.com/myselfshravan/rag-langchain/tree/main/md_files/more.md',\n 'https://github.com/myselfshravan/rag-langchain/tree/main/md_files/noterep.md',\n 'https://github.com/myselfshravan/rag-langchain/tree/main/md_files/webcontent1.md',\n 'https://github.com/myselfshravan/rag-langchain/tree/main/md_files/webcontent2.md',\n 'https://github.com/myselfshravan/rag-langchain/tree/main/md_files/webcontent3.md',\n 'https://github.com/myselfshravan/rag-langchain/tree/main/md_files/webcontent4.md',\n 'https://github.com/myselfshravan/rag-langchain/tree/main/md_files/more.md',\n 'https://github.com/myselfshravan/rag-langchain/tree/main/md_files/noterep.md',\n 'https://github.com/myselfshravan/rag-langchain/tree/main/md_files/webcontent1.md',\n 'https://github.com/myselfshravan/rag-langchain/tree/main/md_files/webcontent2.md',\n 'https://github.com/myselfshravan/rag-langchain/tree/main/md_files/webcontent3.md',\n 'https://github.com/myselfshravan/rag-langchain/tree/main/md_files/webcontent4.md',\n 'https://github.com/myselfshravan/rag-langchain/tree/main/txt_files/webcontent.txt',\n 'https://github.com/myselfshravan/rag-langchain/tree/main/txt_files/webcontent2.txt',\n 'https://github.com/myselfshravan/rag-langchain/tree/main/txt_files/webcontent.txt',\n 'https://github.com/myselfshravan/rag-langchain/tree/main/txt_files/webcontent2.txt']"
     },
     "execution_count": 102,
     "metadata": {},
     "output_type": "execute_result"
    }
   ],
   "source": [
    "code_links"
   ],
   "metadata": {
    "collapsed": false,
    "ExecuteTime": {
     "end_time": "2024-03-11T14:50:49.942453Z",
     "start_time": "2024-03-11T14:50:49.930699Z"
    }
   },
   "id": "95c1ae594eabb277",
   "execution_count": 102
  },
  {
   "cell_type": "code",
   "outputs": [
    {
     "data": {
      "text/plain": "['https://github.com/myselfshravan/rag-langchain/blob/main/.gitignore',\n 'https://github.com/myselfshravan/rag-langchain/blob/main/.gitignore',\n 'https://github.com/myselfshravan/rag-langchain/blob/main/README.md',\n 'https://github.com/myselfshravan/rag-langchain/blob/main/README.md',\n 'https://github.com/myselfshravan/rag-langchain/blob/main/The_Most_Intense_Negotiation_Between_Hopscotch_Owner_and_Mark_Cuban_Shark_Tank_US_-_YouTube.json',\n 'https://github.com/myselfshravan/rag-langchain/blob/main/The_Most_Intense_Negotiation_Between_Hopscotch_Owner_and_Mark_Cuban_Shark_Tank_US_-_YouTube.json',\n 'https://github.com/myselfshravan/rag-langchain/blob/main/app.py',\n 'https://github.com/myselfshravan/rag-langchain/blob/main/app.py',\n 'https://github.com/myselfshravan/rag-langchain/blob/main/chainlit.md',\n 'https://github.com/myselfshravan/rag-langchain/blob/main/chainlit.md',\n 'https://github.com/myselfshravan/rag-langchain/blob/main/comments_analyse.ipynb',\n 'https://github.com/myselfshravan/rag-langchain/blob/main/comments_analyse.ipynb',\n 'https://github.com/myselfshravan/rag-langchain/blob/main/compare_embeddings.py',\n 'https://github.com/myselfshravan/rag-langchain/blob/main/compare_embeddings.py',\n 'https://github.com/myselfshravan/rag-langchain/blob/main/create_chunk.py',\n 'https://github.com/myselfshravan/rag-langchain/blob/main/create_chunk.py',\n 'https://github.com/myselfshravan/rag-langchain/blob/main/exam_scrape.py',\n 'https://github.com/myselfshravan/rag-langchain/blob/main/exam_scrape.py',\n 'https://github.com/myselfshravan/rag-langchain/blob/main/gemini.py',\n 'https://github.com/myselfshravan/rag-langchain/blob/main/gemini.py',\n 'https://github.com/myselfshravan/rag-langchain/blob/main/loader_json.py',\n 'https://github.com/myselfshravan/rag-langchain/blob/main/loader_json.py',\n 'https://github.com/myselfshravan/rag-langchain/blob/main/main.py',\n 'https://github.com/myselfshravan/rag-langchain/blob/main/main.py',\n 'https://github.com/myselfshravan/rag-langchain/blob/main/msrit_exam.py',\n 'https://github.com/myselfshravan/rag-langchain/blob/main/msrit_exam.py',\n 'https://github.com/myselfshravan/rag-langchain/blob/main/newloader.ipynb',\n 'https://github.com/myselfshravan/rag-langchain/blob/main/newloader.ipynb',\n 'https://github.com/myselfshravan/rag-langchain/blob/main/query_data.py',\n 'https://github.com/myselfshravan/rag-langchain/blob/main/query_data.py',\n 'https://github.com/myselfshravan/rag-langchain/blob/main/requirements.txt',\n 'https://github.com/myselfshravan/rag-langchain/blob/main/requirements.txt',\n 'https://github.com/myselfshravan/rag-langchain/blob/main/streamlit_ui.py',\n 'https://github.com/myselfshravan/rag-langchain/blob/main/streamlit_ui.py',\n 'https://github.com/myselfshravan/rag-langchain/blob/main/test_query.py',\n 'https://github.com/myselfshravan/rag-langchain/blob/main/test_query.py',\n 'https://github.com/myselfshravan/rag-langchain/blob/main/url_list.py',\n 'https://github.com/myselfshravan/rag-langchain/blob/main/url_list.py',\n 'https://github.com/myselfshravan/rag-langchain/blob/main/utils.py',\n 'https://github.com/myselfshravan/rag-langchain/blob/main/utils.py',\n 'https://github.com/myselfshravan/rag-langchain/blob/main/vecdb.py',\n 'https://github.com/myselfshravan/rag-langchain/blob/main/vecdb.py',\n 'https://github.com/myselfshravan/rag-langchain/blob/main/webscraper.py',\n 'https://github.com/myselfshravan/rag-langchain/blob/main/webscraper.py',\n 'https://github.com/myselfshravan/rag-langchain/blob/main/ycscrape.py',\n 'https://github.com/myselfshravan/rag-langchain/blob/main/ycscrape.py',\n 'https://github.com/myselfshravan/rag-langchain/blob/main/ycsgscrape.py',\n 'https://github.com/myselfshravan/rag-langchain/blob/main/ycsgscrape.py',\n 'https://github.com/myselfshravan/rag-langchain/blob/main/youtube_comments.json',\n 'https://github.com/myselfshravan/rag-langchain/blob/main/youtube_comments.json',\n 'https://github.com/myselfshravan/rag-langchain/blob/main/ytc.html',\n 'https://github.com/myselfshravan/rag-langchain/blob/main/ytc.html']"
     },
     "execution_count": 108,
     "metadata": {},
     "output_type": "execute_result"
    }
   ],
   "source": [
    "python_files = [base_url + link for link in blob_links]\n",
    "python_files"
   ],
   "metadata": {
    "collapsed": false,
    "ExecuteTime": {
     "end_time": "2024-03-11T14:52:17.972615Z",
     "start_time": "2024-03-11T14:52:17.960052Z"
    }
   },
   "id": "1cf85e39a22121f7",
   "execution_count": 108
  },
  {
   "cell_type": "code",
   "outputs": [],
   "source": [
    "code = requests.get(python_files[11]).content"
   ],
   "metadata": {
    "collapsed": false,
    "ExecuteTime": {
     "end_time": "2024-03-11T15:01:10.732221Z",
     "start_time": "2024-03-11T15:01:10.135406Z"
    }
   },
   "id": "fa2ddbf78e973373",
   "execution_count": 133
  },
  {
   "cell_type": "code",
   "outputs": [],
   "source": [
    "code = code.decode('utf-8')\n",
    "code_json = json.loads(code)"
   ],
   "metadata": {
    "collapsed": false,
    "ExecuteTime": {
     "end_time": "2024-03-11T15:01:11.246587Z",
     "start_time": "2024-03-11T15:01:11.242179Z"
    }
   },
   "id": "ca94b97d2266bffb",
   "execution_count": 134
  },
  {
   "cell_type": "code",
   "outputs": [
    {
     "data": {
      "text/plain": "{'payload': {'allShortcutsEnabled': False,\n  'fileTree': {'': {'items': [{'name': '.chainlit',\n      'path': '.chainlit',\n      'contentType': 'directory'},\n     {'name': '.idea', 'path': '.idea', 'contentType': 'directory'},\n     {'name': 'chroma', 'path': 'chroma', 'contentType': 'directory'},\n     {'name': 'csv_files', 'path': 'csv_files', 'contentType': 'directory'},\n     {'name': 'json_files', 'path': 'json_files', 'contentType': 'directory'},\n     {'name': 'md_files', 'path': 'md_files', 'contentType': 'directory'},\n     {'name': 'txt_files', 'path': 'txt_files', 'contentType': 'directory'},\n     {'name': '.gitignore', 'path': '.gitignore', 'contentType': 'file'},\n     {'name': 'README.md', 'path': 'README.md', 'contentType': 'file'},\n     {'name': 'The_Most_Intense_Negotiation_Between_Hopscotch_Owner_and_Mark_Cuban_Shark_Tank_US_-_YouTube.json',\n      'path': 'The_Most_Intense_Negotiation_Between_Hopscotch_Owner_and_Mark_Cuban_Shark_Tank_US_-_YouTube.json',\n      'contentType': 'file'},\n     {'name': 'app.py', 'path': 'app.py', 'contentType': 'file'},\n     {'name': 'chainlit.md', 'path': 'chainlit.md', 'contentType': 'file'},\n     {'name': 'comments_analyse.ipynb',\n      'path': 'comments_analyse.ipynb',\n      'contentType': 'file'},\n     {'name': 'compare_embeddings.py',\n      'path': 'compare_embeddings.py',\n      'contentType': 'file'},\n     {'name': 'create_chunk.py',\n      'path': 'create_chunk.py',\n      'contentType': 'file'},\n     {'name': 'exam_scrape.py',\n      'path': 'exam_scrape.py',\n      'contentType': 'file'},\n     {'name': 'gemini.py', 'path': 'gemini.py', 'contentType': 'file'},\n     {'name': 'loader_json.py',\n      'path': 'loader_json.py',\n      'contentType': 'file'},\n     {'name': 'main.py', 'path': 'main.py', 'contentType': 'file'},\n     {'name': 'msrit_exam.py', 'path': 'msrit_exam.py', 'contentType': 'file'},\n     {'name': 'newloader.ipynb',\n      'path': 'newloader.ipynb',\n      'contentType': 'file'},\n     {'name': 'query_data.py', 'path': 'query_data.py', 'contentType': 'file'},\n     {'name': 'requirements.txt',\n      'path': 'requirements.txt',\n      'contentType': 'file'},\n     {'name': 'streamlit_ui.py',\n      'path': 'streamlit_ui.py',\n      'contentType': 'file'},\n     {'name': 'test_query.py', 'path': 'test_query.py', 'contentType': 'file'},\n     {'name': 'url_list.py', 'path': 'url_list.py', 'contentType': 'file'},\n     {'name': 'utils.py', 'path': 'utils.py', 'contentType': 'file'},\n     {'name': 'vecdb.py', 'path': 'vecdb.py', 'contentType': 'file'},\n     {'name': 'webscraper.py', 'path': 'webscraper.py', 'contentType': 'file'},\n     {'name': 'ycscrape.py', 'path': 'ycscrape.py', 'contentType': 'file'},\n     {'name': 'ycsgscrape.py', 'path': 'ycsgscrape.py', 'contentType': 'file'},\n     {'name': 'youtube_comments.json',\n      'path': 'youtube_comments.json',\n      'contentType': 'file'},\n     {'name': 'ytc.html', 'path': 'ytc.html', 'contentType': 'file'}],\n    'totalCount': 33}},\n  'fileTreeProcessingTime': 8.618424,\n  'foldersToFetch': [],\n  'repo': {'id': 764247441,\n   'defaultBranch': 'main',\n   'name': 'rag-langchain',\n   'ownerLogin': 'myselfshravan',\n   'currentUserCanPush': False,\n   'isFork': False,\n   'isEmpty': False,\n   'createdAt': '2024-02-27T18:36:00.000Z',\n   'ownerAvatar': 'https://avatars.githubusercontent.com/u/71520844?v=4',\n   'public': True,\n   'private': False,\n   'isOrgOwned': False},\n  'symbolsExpanded': False,\n  'treeExpanded': True,\n  'refInfo': {'name': 'main',\n   'listCacheKey': 'v0:1709059025.0',\n   'canEdit': False,\n   'refType': 'branch',\n   'currentOid': '4e6be45e846df8e043d8af8fe69031d050d44663'},\n  'path': 'comments_analyse.ipynb',\n  'currentUser': None,\n  'blob': {'rawLines': ['{',\n    ' \"cells\": [',\n    '  {',\n    '   \"cell_type\": \"code\",',\n    '   \"execution_count\": 12,',\n    '   \"id\": \"initial_id\",',\n    '   \"metadata\": {',\n    '    \"collapsed\": true,',\n    '    \"ExecuteTime\": {',\n    '     \"end_time\": \"2024-03-03T08:41:40.514420Z\",',\n    '     \"start_time\": \"2024-03-03T08:41:40.484571Z\"',\n    '    }',\n    '   },',\n    '   \"outputs\": [',\n    '    {',\n    '     \"data\": {',\n    '      \"text/plain\": \"            author                                            comment  likes  \\\\\\\\\\\\n0           @RSRye    Releasing an already released movie is so Tenet      0   \\\\n1     @NobleRaider  Already saw the re-release, can\\'t wait for the...      0   \\\\n2   @RoflMaiWaffel  They\\'re not actually screening the movie, they...    189   \\\\n3  @johndavidbuell  took me months to realize that \\\\\"tenet\\\\\" is refe...    420   \\\\n4         @rabe777  This is the real release date. Going to the ci...      0   \\\\n\\\\n                    age  \\\\n0           1 month ago  \\\\n1           1 month ago  \\\\n2  1 month ago (edited)  \\\\n3           1 month ago  \\\\n4           1 month ago  \",',\n    '      \"text/html\": \"<div>\\\\n<style scoped>\\\\n    .dataframe tbody tr th:only-of-type {\\\\n        vertical-align: middle;\\\\n    }\\\\n\\\\n    .dataframe tbody tr th {\\\\n        vertical-align: top;\\\\n    }\\\\n\\\\n    .dataframe thead th {\\\\n        text-align: right;\\\\n    }\\\\n</style>\\\\n<table border=\\\\\"1\\\\\" class=\\\\\"dataframe\\\\\">\\\\n  <thead>\\\\n    <tr style=\\\\\"text-align: right;\\\\\">\\\\n      <th></th>\\\\n      <th>author</th>\\\\n      <th>comment</th>\\\\n      <th>likes</th>\\\\n      <th>age</th>\\\\n    </tr>\\\\n  </thead>\\\\n  <tbody>\\\\n    <tr>\\\\n      <th>0</th>\\\\n      <td>@RSRye</td>\\\\n      <td>Releasing an already released movie is so Tenet</td>\\\\n      <td>0</td>\\\\n      <td>1 month ago</td>\\\\n    </tr>\\\\n    <tr>\\\\n      <th>1</th>\\\\n      <td>@NobleRaider</td>\\\\n      <td>Already saw the re-release, can\\'t wait for the...</td>\\\\n      <td>0</td>\\\\n      <td>1 month ago</td>\\\\n    </tr>\\\\n    <tr>\\\\n      <th>2</th>\\\\n      <td>@RoflMaiWaffel</td>\\\\n      <td>They\\'re not actually screening the movie, they...</td>\\\\n      <td>189</td>\\\\n      <td>1 month ago (edited)</td>\\\\n    </tr>\\\\n    <tr>\\\\n      <th>3</th>\\\\n      <td>@johndavidbuell</td>\\\\n      <td>took me months to realize that \\\\\"tenet\\\\\" is refe...</td>\\\\n      <td>420</td>\\\\n      <td>1 month ago</td>\\\\n    </tr>\\\\n    <tr>\\\\n      <th>4</th>\\\\n      <td>@rabe777</td>\\\\n      <td>This is the real release date. Going to the ci...</td>\\\\n      <td>0</td>\\\\n      <td>1 month ago</td>\\\\n    </tr>\\\\n  </tbody>\\\\n</table>\\\\n</div>\"',\n    '     },',\n    '     \"execution_count\": 12,',\n    '     \"metadata\": {},',\n    '     \"output_type\": \"execute_result\"',\n    '    }',\n    '   ],',\n    '   \"source\": [',\n    '    \"import json\\\\n\",',\n    '    \"import pandas as pd\\\\n\",',\n    '    \"\\\\n\",',\n    '    \"filename = \\'TENET_Re-Release_Trailer_-_YouTube.json\\'\\\\n\",',\n    '    \"data = pd.read_json(filename, orient=\\'records\\', lines=False)\\\\n\",',\n    '    \"data.head()\"',\n    '   ]',\n    '  },',\n    '  {',\n    '   \"cell_type\": \"code\",',\n    '   \"outputs\": [',\n    '    {',\n    '     \"name\": \"stdout\",',\n    '     \"output_type\": \"stream\",',\n    '     \"text\": [',\n    '      \"I freaking love this movie, wish it got the sequel prequel it deserved\\\\n\",',\n    '      \"526\\\\n\",',\n    '      \"-------------------\\\\n\",',\n    '      \"An absolute underrated masterpiece\\\\n\",',\n    '      \"444\\\\n\",',\n    '      \"-------------------\\\\n\",',\n    '      \"took me months to realize that \\\\\"tenet\\\\\" is referring to the final mission (ten forward and backward, referring to the regular and inverted team\\'s synchronized ten-minute timers)\\\\n\",',\n    '      \"420\\\\n\",',\n    '      \"-------------------\\\\n\",',\n    '      \"I saw this masterpiece in 2020 in one of the few counties of my state allowed to open a movie theater. It\\'s worth seeing in IMAX. Even if you\\'ve seen it on streaming.\\\\n\",',\n    '      \"270\\\\n\",',\n    '      \"-------------------\\\\n\",',\n    '      \"They\\'re not actually screening the movie, they\\'re putting you into the turnstile and sending you back to 2020 when the film releases\\\\n\",',\n    '      \"189\\\\n\",',\n    '      \"-------------------\\\\n\",',\n    '      \"If they re-mix the sound and dialogue for this release, it’ll definitely be a must watch in IMAX for me\\\\n\",',\n    '      \"174\\\\n\",',\n    '      \"-------------------\\\\n\",',\n    '      \"That last shot still gets me to this day\\\\n\",',\n    '      \"128\\\\n\",',\n    '      \"-------------------\\\\n\",',\n    '      \"Amazing blockbuster. Can\\'t wait to see it again. Nolan is the genius!\\\\n\",',\n    '      \"92\\\\n\",',\n    '      \"-------------------\\\\n\",',\n    '      \"Tenet was absolutely amazing, the opening sequence alone was so epic, I remember watching it in cinemas back during the Covid-19 pandemic, happy more people will get the chance to watch it who missed it back then.\\\\n\",',\n    '      \"85\\\\n\",',\n    '      \"-------------------\\\\n\",',\n    '      \"I love this movie. The directing, the film editing, the cinematography, everything\\\\n\",',\n    '      \"82\\\\n\",',\n    '      \"-------------------\\\\n\"',\n    '     ]',\n    '    }',\n    '   ],',\n    '   \"source\": [',\n    '    \"# Sort by highest \\\\\"likes\\\\\" column\\\\n\",',\n    '    \"data = data.sort_values(by=\\'likes\\', ascending=False)\\\\n\",',\n    '    \"\\\\n\",',\n    '    \"# Iterate through the sorted data and print comments with the highest likes\\\\n\",',\n    '    \"for index, row in data.head(10).iterrows():\\\\n\",',\n    '    \"    print(row[\\'comment\\'])\\\\n\",',\n    '    \"    print(row[\\'likes\\'])\\\\n\",',\n    '    \"    print(\\'-------------------\\')\\\\n\"',\n    '   ],',\n    '   \"metadata\": {',\n    '    \"collapsed\": false,',\n    '    \"ExecuteTime\": {',\n    '     \"end_time\": \"2024-03-03T08:46:41.431729Z\",',\n    '     \"start_time\": \"2024-03-03T08:46:41.417554Z\"',\n    '    }',\n    '   },',\n    '   \"id\": \"383d65b397038817\",',\n    '   \"execution_count\": 28',\n    '  },',\n    '  {',\n    '   \"cell_type\": \"code\",',\n    '   \"outputs\": [',\n    '    {',\n    '     \"data\": {',\n    '      \"text/plain\": \"               author                                            comment  \\\\\\\\\\\\n20  @peterpilgrim3377  I freaking love this movie, wish it got the se...   \\\\n17     @Lumi-OF-Model                 An absolute underrated masterpiece   \\\\n3     @johndavidbuell  took me months to realize that \\\\\"tenet\\\\\" is refe...   \\\\n16     @velvetsky5117  I saw this masterpiece in 2020 in one of the f...   \\\\n2      @RoflMaiWaffel  They\\'re not actually screening the movie, they...   \\\\n\\\\n    likes                   age  \\\\n20    526           1 month ago  \\\\n17    444           1 month ago  \\\\n3     420           1 month ago  \\\\n16    270           1 month ago  \\\\n2     189  1 month ago (edited)  \",',\n    '      \"text/html\": \"<div>\\\\n<style scoped>\\\\n    .dataframe tbody tr th:only-of-type {\\\\n        vertical-align: middle;\\\\n    }\\\\n\\\\n    .dataframe tbody tr th {\\\\n        vertical-align: top;\\\\n    }\\\\n\\\\n    .dataframe thead th {\\\\n        text-align: right;\\\\n    }\\\\n</style>\\\\n<table border=\\\\\"1\\\\\" class=\\\\\"dataframe\\\\\">\\\\n  <thead>\\\\n    <tr style=\\\\\"text-align: right;\\\\\">\\\\n      <th></th>\\\\n      <th>author</th>\\\\n      <th>comment</th>\\\\n      <th>likes</th>\\\\n      <th>age</th>\\\\n    </tr>\\\\n  </thead>\\\\n  <tbody>\\\\n    <tr>\\\\n      <th>20</th>\\\\n      <td>@peterpilgrim3377</td>\\\\n      <td>I freaking love this movie, wish it got the se...</td>\\\\n      <td>526</td>\\\\n      <td>1 month ago</td>\\\\n    </tr>\\\\n    <tr>\\\\n      <th>17</th>\\\\n      <td>@Lumi-OF-Model</td>\\\\n      <td>An absolute underrated masterpiece</td>\\\\n      <td>444</td>\\\\n      <td>1 month ago</td>\\\\n    </tr>\\\\n    <tr>\\\\n      <th>3</th>\\\\n      <td>@johndavidbuell</td>\\\\n      <td>took me months to realize that \\\\\"tenet\\\\\" is refe...</td>\\\\n      <td>420</td>\\\\n      <td>1 month ago</td>\\\\n    </tr>\\\\n    <tr>\\\\n      <th>16</th>\\\\n      <td>@velvetsky5117</td>\\\\n      <td>I saw this masterpiece in 2020 in one of the f...</td>\\\\n      <td>270</td>\\\\n      <td>1 month ago</td>\\\\n    </tr>\\\\n    <tr>\\\\n      <th>2</th>\\\\n      <td>@RoflMaiWaffel</td>\\\\n      <td>They\\'re not actually screening the movie, they...</td>\\\\n      <td>189</td>\\\\n      <td>1 month ago (edited)</td>\\\\n    </tr>\\\\n  </tbody>\\\\n</table>\\\\n</div>\"',\n    '     },',\n    '     \"execution_count\": 24,',\n    '     \"metadata\": {},',\n    '     \"output_type\": \"execute_result\"',\n    '    }',\n    '   ],',\n    '   \"source\": [',\n    '    \"# create a new data with sored likes count\\\\n\",',\n    '    \"sorted_data = data.sort_values(by=\\'likes\\', ascending=False)\\\\n\",',\n    '    \"sorted_data.head()\\\\n\"',\n    '   ],',\n    '   \"metadata\": {',\n    '    \"collapsed\": false,',\n    '    \"ExecuteTime\": {',\n    '     \"end_time\": \"2024-03-03T08:45:31.000424Z\",',\n    '     \"start_time\": \"2024-03-03T08:45:30.977224Z\"',\n    '    }',\n    '   },',\n    '   \"id\": \"8d3b98d3c13a7122\",',\n    '   \"execution_count\": 24',\n    '  }',\n    ' ],',\n    ' \"metadata\": {',\n    '  \"kernelspec\": {',\n    '   \"display_name\": \"Python 3\",',\n    '   \"language\": \"python\",',\n    '   \"name\": \"python3\"',\n    '  },',\n    '  \"language_info\": {',\n    '   \"codemirror_mode\": {',\n    '    \"name\": \"ipython\",',\n    '    \"version\": 2',\n    '   },',\n    '   \"file_extension\": \".py\",',\n    '   \"mimetype\": \"text/x-python\",',\n    '   \"name\": \"python\",',\n    '   \"nbconvert_exporter\": \"python\",',\n    '   \"pygments_lexer\": \"ipython2\",',\n    '   \"version\": \"2.7.6\"',\n    '  }',\n    ' },',\n    ' \"nbformat\": 4,',\n    ' \"nbformat_minor\": 5',\n    '}'],\n   'stylingDirectives': None,\n   'csv': None,\n   'csvError': None,\n   'dependabotInfo': {'showConfigurationBanner': False,\n    'configFilePath': None,\n    'networkDependabotPath': '/myselfshravan/rag-langchain/network/updates',\n    'dismissConfigurationNoticePath': '/settings/dismiss-notice/dependabot_configuration_notice',\n    'configurationNoticeDismissed': None},\n   'displayName': 'comments_analyse.ipynb',\n   'displayUrl': 'https://notebooks.githubusercontent.com/view/ipynb?browser=unknown_browser&bypass_fastly=true&color_mode=auto&commit=4e6be45e846df8e043d8af8fe69031d050d44663&device=unknown_device&docs_host=https%3A%2F%2Fdocs.github.com&enc_url=68747470733a2f2f7261772e67697468756275736572636f6e74656e742e636f6d2f6d7973656c667368726176616e2f7261672d6c616e67636861696e2f346536626534356538343664663865303433643861663866653639303331643035306434343636332f636f6d6d656e74735f616e616c7973652e6970796e62&logged_in=false&nwo=myselfshravan%2Frag-langchain&path=comments_analyse.ipynb&platform=unknown_platform&repository_id=764247441&repository_type=Repository&version=0',\n   'headerInfo': {'blobSize': '8.12 KB',\n    'deleteTooltip': 'You must be signed in to make or propose changes',\n    'editTooltip': 'You must be signed in to make or propose changes',\n    'ghDesktopPath': 'https://desktop.github.com',\n    'isGitLfs': False,\n    'onBranch': True,\n    'shortPath': '6b0599a',\n    'siteNavLoginPath': '/login?return_to=https%3A%2F%2Fgithub.com%2Fmyselfshravan%2Frag-langchain%2Fblob%2Fmain%2Fcomments_analyse.ipynb',\n    'isCSV': False,\n    'isRichtext': False,\n    'toc': None,\n    'lineInfo': {'truncatedLoc': '144', 'truncatedSloc': '144'},\n    'mode': 'file'},\n   'image': False,\n   'isCodeownersFile': None,\n   'isPlain': False,\n   'isValidLegacyIssueTemplate': False,\n   'issueTemplate': None,\n   'discussionTemplate': None,\n   'language': 'Jupyter Notebook',\n   'languageID': 185,\n   'large': False,\n   'planSupportInfo': {'repoIsFork': None,\n    'repoOwnedByCurrentUser': None,\n    'requestFullPath': '/myselfshravan/rag-langchain/blob/main/comments_analyse.ipynb',\n    'showFreeOrgGatedFeatureMessage': None,\n    'showPlanSupportBanner': None,\n    'upgradeDataAttributes': None,\n    'upgradePath': None},\n   'publishBannersInfo': {'dismissActionNoticePath': '/settings/dismiss-notice/publish_action_from_dockerfile',\n    'releasePath': '/myselfshravan/rag-langchain/releases/new?marketplace=true',\n    'showPublishActionBanner': False},\n   'rawBlobUrl': 'https://github.com/myselfshravan/rag-langchain/raw/main/comments_analyse.ipynb',\n   'renderImageOrRaw': False,\n   'richText': None,\n   'renderedFileInfo': {'identityUUID': 'd3e7d1f4-4d12-497d-8694-2ab3cab5af1c',\n    'renderFileType': 'ipynb',\n    'size': 8319},\n   'shortPath': None,\n   'symbolsEnabled': True,\n   'tabSize': 8,\n   'topBannersInfo': {'overridingGlobalFundingFile': False,\n    'globalPreferredFundingPath': None,\n    'showInvalidCitationWarning': False,\n    'citationHelpUrl': 'https://docs.github.com/github/creating-cloning-and-archiving-repositories/creating-a-repository-on-github/about-citation-files',\n    'actionsOnboardingTip': None},\n   'truncated': False,\n   'viewable': True,\n   'workflowRedirectUrl': None,\n   'symbols': {'timed_out': False, 'not_analyzed': True, 'symbols': []}},\n  'copilotInfo': None,\n  'copilotAccessAllowed': False,\n  'csrf_tokens': {'/myselfshravan/rag-langchain/branches': {'post': 'NzK7x7vWmaZCKgNqQvhudn19iAyNuC7ESBYPjmEzglDy24CmWHsWiqESQZxZ0Ad5O3DL_lcXZFiQwZ5W6SzRUA'},\n   '/repos/preferences': {'post': 'oHhzMlJLWg4D0ww5bmnXLM_Q5UMEU5KlizPDGxeziSvzVj8YaWbsMRmA5wkmlUPRU2XbWeGAT7zJ302ksz5bUQ'}}},\n 'title': 'rag-langchain/comments_analyse.ipynb at main · myselfshravan/rag-langchain'}"
     },
     "execution_count": 136,
     "metadata": {},
     "output_type": "execute_result"
    }
   ],
   "source": [
    "code_json"
   ],
   "metadata": {
    "collapsed": false,
    "ExecuteTime": {
     "end_time": "2024-03-11T15:01:58.685043Z",
     "start_time": "2024-03-11T15:01:58.671316Z"
    }
   },
   "id": "809631c2670ed4f",
   "execution_count": 136
  },
  {
   "cell_type": "code",
   "outputs": [
    {
     "name": "stdout",
     "output_type": "stream",
     "text": [
      "{\n",
      " \"cells\": [\n",
      "  {\n",
      "   \"cell_type\": \"code\",\n",
      "   \"execution_count\": 12,\n",
      "   \"id\": \"initial_id\",\n",
      "   \"metadata\": {\n",
      "    \"collapsed\": true,\n",
      "    \"ExecuteTime\": {\n",
      "     \"end_time\": \"2024-03-03T08:41:40.514420Z\",\n",
      "     \"start_time\": \"2024-03-03T08:41:40.484571Z\"\n",
      "    }\n",
      "   },\n",
      "   \"outputs\": [\n",
      "    {\n",
      "     \"data\": {\n",
      "      \"text/plain\": \"            author                                            comment  likes  \\\\\\n0           @RSRye    Releasing an already released movie is so Tenet      0   \\n1     @NobleRaider  Already saw the re-release, can't wait for the...      0   \\n2   @RoflMaiWaffel  They're not actually screening the movie, they...    189   \\n3  @johndavidbuell  took me months to realize that \\\"tenet\\\" is refe...    420   \\n4         @rabe777  This is the real release date. Going to the ci...      0   \\n\\n                    age  \\n0           1 month ago  \\n1           1 month ago  \\n2  1 month ago (edited)  \\n3           1 month ago  \\n4           1 month ago  \",\n",
      "      \"text/html\": \"<div>\\n<style scoped>\\n    .dataframe tbody tr th:only-of-type {\\n        vertical-align: middle;\\n    }\\n\\n    .dataframe tbody tr th {\\n        vertical-align: top;\\n    }\\n\\n    .dataframe thead th {\\n        text-align: right;\\n    }\\n</style>\\n<table border=\\\"1\\\" class=\\\"dataframe\\\">\\n  <thead>\\n    <tr style=\\\"text-align: right;\\\">\\n      <th></th>\\n      <th>author</th>\\n      <th>comment</th>\\n      <th>likes</th>\\n      <th>age</th>\\n    </tr>\\n  </thead>\\n  <tbody>\\n    <tr>\\n      <th>0</th>\\n      <td>@RSRye</td>\\n      <td>Releasing an already released movie is so Tenet</td>\\n      <td>0</td>\\n      <td>1 month ago</td>\\n    </tr>\\n    <tr>\\n      <th>1</th>\\n      <td>@NobleRaider</td>\\n      <td>Already saw the re-release, can't wait for the...</td>\\n      <td>0</td>\\n      <td>1 month ago</td>\\n    </tr>\\n    <tr>\\n      <th>2</th>\\n      <td>@RoflMaiWaffel</td>\\n      <td>They're not actually screening the movie, they...</td>\\n      <td>189</td>\\n      <td>1 month ago (edited)</td>\\n    </tr>\\n    <tr>\\n      <th>3</th>\\n      <td>@johndavidbuell</td>\\n      <td>took me months to realize that \\\"tenet\\\" is refe...</td>\\n      <td>420</td>\\n      <td>1 month ago</td>\\n    </tr>\\n    <tr>\\n      <th>4</th>\\n      <td>@rabe777</td>\\n      <td>This is the real release date. Going to the ci...</td>\\n      <td>0</td>\\n      <td>1 month ago</td>\\n    </tr>\\n  </tbody>\\n</table>\\n</div>\"\n",
      "     },\n",
      "     \"execution_count\": 12,\n",
      "     \"metadata\": {},\n",
      "     \"output_type\": \"execute_result\"\n",
      "    }\n",
      "   ],\n",
      "   \"source\": [\n",
      "    \"import json\\n\",\n",
      "    \"import pandas as pd\\n\",\n",
      "    \"\\n\",\n",
      "    \"filename = 'TENET_Re-Release_Trailer_-_YouTube.json'\\n\",\n",
      "    \"data = pd.read_json(filename, orient='records', lines=False)\\n\",\n",
      "    \"data.head()\"\n",
      "   ]\n",
      "  },\n",
      "  {\n",
      "   \"cell_type\": \"code\",\n",
      "   \"outputs\": [\n",
      "    {\n",
      "     \"name\": \"stdout\",\n",
      "     \"output_type\": \"stream\",\n",
      "     \"text\": [\n",
      "      \"I freaking love this movie, wish it got the sequel prequel it deserved\\n\",\n",
      "      \"526\\n\",\n",
      "      \"-------------------\\n\",\n",
      "      \"An absolute underrated masterpiece\\n\",\n",
      "      \"444\\n\",\n",
      "      \"-------------------\\n\",\n",
      "      \"took me months to realize that \\\"tenet\\\" is referring to the final mission (ten forward and backward, referring to the regular and inverted team's synchronized ten-minute timers)\\n\",\n",
      "      \"420\\n\",\n",
      "      \"-------------------\\n\",\n",
      "      \"I saw this masterpiece in 2020 in one of the few counties of my state allowed to open a movie theater. It's worth seeing in IMAX. Even if you've seen it on streaming.\\n\",\n",
      "      \"270\\n\",\n",
      "      \"-------------------\\n\",\n",
      "      \"They're not actually screening the movie, they're putting you into the turnstile and sending you back to 2020 when the film releases\\n\",\n",
      "      \"189\\n\",\n",
      "      \"-------------------\\n\",\n",
      "      \"If they re-mix the sound and dialogue for this release, it’ll definitely be a must watch in IMAX for me\\n\",\n",
      "      \"174\\n\",\n",
      "      \"-------------------\\n\",\n",
      "      \"That last shot still gets me to this day\\n\",\n",
      "      \"128\\n\",\n",
      "      \"-------------------\\n\",\n",
      "      \"Amazing blockbuster. Can't wait to see it again. Nolan is the genius!\\n\",\n",
      "      \"92\\n\",\n",
      "      \"-------------------\\n\",\n",
      "      \"Tenet was absolutely amazing, the opening sequence alone was so epic, I remember watching it in cinemas back during the Covid-19 pandemic, happy more people will get the chance to watch it who missed it back then.\\n\",\n",
      "      \"85\\n\",\n",
      "      \"-------------------\\n\",\n",
      "      \"I love this movie. The directing, the film editing, the cinematography, everything\\n\",\n",
      "      \"82\\n\",\n",
      "      \"-------------------\\n\"\n",
      "     ]\n",
      "    }\n",
      "   ],\n",
      "   \"source\": [\n",
      "    \"# Sort by highest \\\"likes\\\" column\\n\",\n",
      "    \"data = data.sort_values(by='likes', ascending=False)\\n\",\n",
      "    \"\\n\",\n",
      "    \"# Iterate through the sorted data and print comments with the highest likes\\n\",\n",
      "    \"for index, row in data.head(10).iterrows():\\n\",\n",
      "    \"    print(row['comment'])\\n\",\n",
      "    \"    print(row['likes'])\\n\",\n",
      "    \"    print('-------------------')\\n\"\n",
      "   ],\n",
      "   \"metadata\": {\n",
      "    \"collapsed\": false,\n",
      "    \"ExecuteTime\": {\n",
      "     \"end_time\": \"2024-03-03T08:46:41.431729Z\",\n",
      "     \"start_time\": \"2024-03-03T08:46:41.417554Z\"\n",
      "    }\n",
      "   },\n",
      "   \"id\": \"383d65b397038817\",\n",
      "   \"execution_count\": 28\n",
      "  },\n",
      "  {\n",
      "   \"cell_type\": \"code\",\n",
      "   \"outputs\": [\n",
      "    {\n",
      "     \"data\": {\n",
      "      \"text/plain\": \"               author                                            comment  \\\\\\n20  @peterpilgrim3377  I freaking love this movie, wish it got the se...   \\n17     @Lumi-OF-Model                 An absolute underrated masterpiece   \\n3     @johndavidbuell  took me months to realize that \\\"tenet\\\" is refe...   \\n16     @velvetsky5117  I saw this masterpiece in 2020 in one of the f...   \\n2      @RoflMaiWaffel  They're not actually screening the movie, they...   \\n\\n    likes                   age  \\n20    526           1 month ago  \\n17    444           1 month ago  \\n3     420           1 month ago  \\n16    270           1 month ago  \\n2     189  1 month ago (edited)  \",\n",
      "      \"text/html\": \"<div>\\n<style scoped>\\n    .dataframe tbody tr th:only-of-type {\\n        vertical-align: middle;\\n    }\\n\\n    .dataframe tbody tr th {\\n        vertical-align: top;\\n    }\\n\\n    .dataframe thead th {\\n        text-align: right;\\n    }\\n</style>\\n<table border=\\\"1\\\" class=\\\"dataframe\\\">\\n  <thead>\\n    <tr style=\\\"text-align: right;\\\">\\n      <th></th>\\n      <th>author</th>\\n      <th>comment</th>\\n      <th>likes</th>\\n      <th>age</th>\\n    </tr>\\n  </thead>\\n  <tbody>\\n    <tr>\\n      <th>20</th>\\n      <td>@peterpilgrim3377</td>\\n      <td>I freaking love this movie, wish it got the se...</td>\\n      <td>526</td>\\n      <td>1 month ago</td>\\n    </tr>\\n    <tr>\\n      <th>17</th>\\n      <td>@Lumi-OF-Model</td>\\n      <td>An absolute underrated masterpiece</td>\\n      <td>444</td>\\n      <td>1 month ago</td>\\n    </tr>\\n    <tr>\\n      <th>3</th>\\n      <td>@johndavidbuell</td>\\n      <td>took me months to realize that \\\"tenet\\\" is refe...</td>\\n      <td>420</td>\\n      <td>1 month ago</td>\\n    </tr>\\n    <tr>\\n      <th>16</th>\\n      <td>@velvetsky5117</td>\\n      <td>I saw this masterpiece in 2020 in one of the f...</td>\\n      <td>270</td>\\n      <td>1 month ago</td>\\n    </tr>\\n    <tr>\\n      <th>2</th>\\n      <td>@RoflMaiWaffel</td>\\n      <td>They're not actually screening the movie, they...</td>\\n      <td>189</td>\\n      <td>1 month ago (edited)</td>\\n    </tr>\\n  </tbody>\\n</table>\\n</div>\"\n",
      "     },\n",
      "     \"execution_count\": 24,\n",
      "     \"metadata\": {},\n",
      "     \"output_type\": \"execute_result\"\n",
      "    }\n",
      "   ],\n",
      "   \"source\": [\n",
      "    \"# create a new data with sored likes count\\n\",\n",
      "    \"sorted_data = data.sort_values(by='likes', ascending=False)\\n\",\n",
      "    \"sorted_data.head()\\n\"\n",
      "   ],\n",
      "   \"metadata\": {\n",
      "    \"collapsed\": false,\n",
      "    \"ExecuteTime\": {\n",
      "     \"end_time\": \"2024-03-03T08:45:31.000424Z\",\n",
      "     \"start_time\": \"2024-03-03T08:45:30.977224Z\"\n",
      "    }\n",
      "   },\n",
      "   \"id\": \"8d3b98d3c13a7122\",\n",
      "   \"execution_count\": 24\n",
      "  }\n",
      " ],\n",
      " \"metadata\": {\n",
      "  \"kernelspec\": {\n",
      "   \"display_name\": \"Python 3\",\n",
      "   \"language\": \"python\",\n",
      "   \"name\": \"python3\"\n",
      "  },\n",
      "  \"language_info\": {\n",
      "   \"codemirror_mode\": {\n",
      "    \"name\": \"ipython\",\n",
      "    \"version\": 2\n",
      "   },\n",
      "   \"file_extension\": \".py\",\n",
      "   \"mimetype\": \"text/x-python\",\n",
      "   \"name\": \"python\",\n",
      "   \"nbconvert_exporter\": \"python\",\n",
      "   \"pygments_lexer\": \"ipython2\",\n",
      "   \"version\": \"2.7.6\"\n",
      "  }\n",
      " },\n",
      " \"nbformat\": 4,\n",
      " \"nbformat_minor\": 5\n",
      "}\n"
     ]
    }
   ],
   "source": [
    "# code_json['payload']['blob']['rawLines']\n",
    "for line in code_json['payload']['blob']['rawLines']:\n",
    "    print(line)"
   ],
   "metadata": {
    "collapsed": false,
    "ExecuteTime": {
     "end_time": "2024-03-11T15:01:12.070008Z",
     "start_time": "2024-03-11T15:01:12.063342Z"
    }
   },
   "id": "9f37306e4c28711",
   "execution_count": 135
  },
  {
   "cell_type": "code",
   "outputs": [],
   "source": [],
   "metadata": {
    "collapsed": false
   },
   "id": "678db3649655c5f3"
  }
 ],
 "metadata": {
  "kernelspec": {
   "display_name": "Python 3",
   "language": "python",
   "name": "python3"
  },
  "language_info": {
   "codemirror_mode": {
    "name": "ipython",
    "version": 2
   },
   "file_extension": ".py",
   "mimetype": "text/x-python",
   "name": "python",
   "nbconvert_exporter": "python",
   "pygments_lexer": "ipython2",
   "version": "2.7.6"
  }
 },
 "nbformat": 4,
 "nbformat_minor": 5
}
