{
 "cells": [
  {
   "cell_type": "code",
   "execution_count": 28,
   "id": "initial_id",
   "metadata": {
    "collapsed": true,
    "ExecuteTime": {
     "end_time": "2024-03-14T11:00:05.478202Z",
     "start_time": "2024-03-14T11:00:04.511256Z"
    }
   },
   "outputs": [],
   "source": [
    "import requests\n",
    "from bs4 import BeautifulSoup\n",
    "\n",
    "product_urls = [\"https://www.gifthampersuk.co.uk/chocolate-mountain-gift-hamper-uk\",\n",
    "                \"https://www.gifthampersuk.co.uk/gift-hampers/sunshine-and-smiles-gift-hamper-uk\"]\n",
    "\n",
    "response = requests.get(product_urls[0])\n",
    "html = response.content\n",
    "\n",
    "soup = BeautifulSoup(html, 'html.parser')"
   ]
  },
  {
   "cell_type": "code",
   "outputs": [
    {
     "name": "stdout",
     "output_type": "stream",
     "text": [
      "Chocolate Mountain Gift Hamper\n",
      "£59.00\n",
      "---\n",
      "Indulge in a heavenly ascent of flavor with our 'Chocolate Mountain' hamper. This sweet treat is a chocolate lover's dream, featuring a scrumptious selection of chocolates that will take your taste buds on a delightful journey to the summit of satisfaction. Free UK delivery makes this the perfect hassle-free gift.\n",
      "---\n",
      "* Love Popcorn Double Chocolate Popcorn 100g\n",
      "* Gnaw Mochaccino Hot Chocolate Stirrer 45g\n",
      "* Milk Chocolate Star 50g\n",
      "* Mighty Fine Sicilian Lemon White Chocolate Honeycomb Bar 30g\n",
      "* Lily O’Brien’s Creamy Caramel & Sea Salt 120g\n",
      "* Mr Filbert’s Chocolate Orange Nut Mix 75g\n",
      "* Bon Bon’s Chocolate Orange Fudge 160g\n",
      "* Reids Chocolate Chunk Shortbread 150g\n",
      "* Monty Bojangles Choccy Scoffy Truffles 100g\n",
      "* Cartwright & Butler Chocolate Wafer Rounds 120g\n",
      "* Miss American Pie Boston Cream Pie Cookies 45g\n",
      "* Gnaw Dark Chocolate Bar 100g\n",
      "* Packed in a Brown Gift Box\n"
     ]
    }
   ],
   "source": [
    "print(soup.find('h1', class_='product-name').text)\n",
    "print(soup.find('span', class_='placeholder-price-holder').text)\n",
    "print(\"---\")\n",
    "if soup.find('div', id='prod-short-desc') is not None:\n",
    "    print(soup.find('div', id='prod-short-desc').text)\n",
    "description_div = soup.find('div', id='tab-description')\n",
    "description = description_div.find_all('li')\n",
    "print(\"---\")\n",
    "for i in description:\n",
    "    print(f\"* {i.text}\")"
   ],
   "metadata": {
    "collapsed": false,
    "ExecuteTime": {
     "end_time": "2024-03-14T11:19:22.022259Z",
     "start_time": "2024-03-14T11:19:22.006486Z"
    }
   },
   "id": "deb452d1aae3b8bd",
   "execution_count": 31
  },
  {
   "cell_type": "code",
   "outputs": [
    {
     "name": "stdout",
     "output_type": "stream",
     "text": [
      "1710424727.4235027\n"
     ]
    }
   ],
   "source": [
    "import time\n",
    "import datetime\n",
    "\n",
    "#print time\n",
    "print(time.time())"
   ],
   "metadata": {
    "collapsed": false,
    "ExecuteTime": {
     "end_time": "2024-03-14T13:58:47.425875Z",
     "start_time": "2024-03-14T13:58:47.420853Z"
    }
   },
   "id": "5d73e1e52380d1f4",
   "execution_count": 3
  },
  {
   "cell_type": "code",
   "outputs": [
    {
     "name": "stdout",
     "output_type": "stream",
     "text": [
      "1709255520.0\n"
     ]
    }
   ],
   "source": [
    "date = \"1 Mar 2024 06:42:00\"\n",
    "obj = time.strptime(date, \"%d %b %Y %H:%M:%S\")\n",
    "#time in sec\n",
    "print(time.mktime(obj)) "
   ],
   "metadata": {
    "collapsed": false,
    "ExecuteTime": {
     "end_time": "2024-03-14T14:03:51.331318Z",
     "start_time": "2024-03-14T14:03:51.325064Z"
    }
   },
   "id": "8af2f08fad304b91",
   "execution_count": 6
  }
 ],
 "metadata": {
  "kernelspec": {
   "display_name": "Python 3",
   "language": "python",
   "name": "python3"
  },
  "language_info": {
   "codemirror_mode": {
    "name": "ipython",
    "version": 2
   },
   "file_extension": ".py",
   "mimetype": "text/x-python",
   "name": "python",
   "nbconvert_exporter": "python",
   "pygments_lexer": "ipython2",
   "version": "2.7.6"
  }
 },
 "nbformat": 4,
 "nbformat_minor": 5
}
